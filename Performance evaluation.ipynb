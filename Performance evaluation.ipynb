{
 "cells": [
  {
   "cell_type": "code",
   "execution_count": 103,
   "metadata": {},
   "outputs": [
    {
     "name": "stdout",
     "output_type": "stream",
     "text": [
      "Tree nodes: (9, 3)\n",
      "   node_id  left  right\n",
      "0       10     1      3\n",
      "1       11     2      9\n",
      "2       12     0      6\n",
      "3       13    10     11\n",
      "4       14     7     12\n",
      "data size: (10, 9)\n",
      "[0, 1, 2, 3]\n"
     ]
    },
    {
     "data": {
      "text/html": [
       "<div>\n",
       "<style scoped>\n",
       "    .dataframe tbody tr th:only-of-type {\n",
       "        vertical-align: middle;\n",
       "    }\n",
       "\n",
       "    .dataframe tbody tr th {\n",
       "        vertical-align: top;\n",
       "    }\n",
       "\n",
       "    .dataframe thead th {\n",
       "        text-align: right;\n",
       "    }\n",
       "</style>\n",
       "<table border=\"1\" class=\"dataframe\">\n",
       "  <thead>\n",
       "    <tr style=\"text-align: right;\">\n",
       "      <th></th>\n",
       "      <th>title</th>\n",
       "      <th>abstract</th>\n",
       "      <th>date</th>\n",
       "      <th>mesh_ui</th>\n",
       "      <th>mesh_mh</th>\n",
       "      <th>mesh_ui_diab</th>\n",
       "      <th>mesh_mh_diab</th>\n",
       "      <th>title_abstract_prep</th>\n",
       "      <th>class_predict</th>\n",
       "    </tr>\n",
       "    <tr>\n",
       "      <th>PMID</th>\n",
       "      <th></th>\n",
       "      <th></th>\n",
       "      <th></th>\n",
       "      <th></th>\n",
       "      <th></th>\n",
       "      <th></th>\n",
       "      <th></th>\n",
       "      <th></th>\n",
       "      <th></th>\n",
       "    </tr>\n",
       "  </thead>\n",
       "  <tbody>\n",
       "    <tr>\n",
       "      <th>29913182</th>\n",
       "      <td>The genetic architecture of type 1 diabetes me...</td>\n",
       "      <td>Type 1 diabetes mellitus (T1D) is a complex au...</td>\n",
       "      <td>2018-12-05</td>\n",
       "      <td>D015551,D003922,D020022,D014644,D055106,D00668...</td>\n",
       "      <td>Autoimmunity,Diabetes Mellitus, Type 1,Genetic...</td>\n",
       "      <td>D003922</td>\n",
       "      <td>Diabetes Mellitus, Type 1</td>\n",
       "      <td>the genetic architecture of type 1 diabetes me...</td>\n",
       "      <td>0</td>\n",
       "    </tr>\n",
       "    <tr>\n",
       "      <th>29913317</th>\n",
       "      <td>Evaluation of knowledge regarding gestational ...</td>\n",
       "      <td>OBJECTIVE\\nThe aim of this study was to evalua...</td>\n",
       "      <td>2018-08</td>\n",
       "      <td>D000293,D000328,D000368,D000369,D001459,D00343...</td>\n",
       "      <td>Adolescent,Adult,Aged,Aged, 80 and over,Bangla...</td>\n",
       "      <td>D016640</td>\n",
       "      <td>Diabetes, Gestational</td>\n",
       "      <td>evaluation of knowledge regarding gestational ...</td>\n",
       "      <td>1</td>\n",
       "    </tr>\n",
       "  </tbody>\n",
       "</table>\n",
       "</div>"
      ],
      "text/plain": [
       "                                                      title  \\\n",
       "PMID                                                          \n",
       "29913182  The genetic architecture of type 1 diabetes me...   \n",
       "29913317  Evaluation of knowledge regarding gestational ...   \n",
       "\n",
       "                                                   abstract        date  \\\n",
       "PMID                                                                      \n",
       "29913182  Type 1 diabetes mellitus (T1D) is a complex au...  2018-12-05   \n",
       "29913317  OBJECTIVE\\nThe aim of this study was to evalua...     2018-08   \n",
       "\n",
       "                                                    mesh_ui  \\\n",
       "PMID                                                          \n",
       "29913182  D015551,D003922,D020022,D014644,D055106,D00668...   \n",
       "29913317  D000293,D000328,D000368,D000369,D001459,D00343...   \n",
       "\n",
       "                                                    mesh_mh mesh_ui_diab  \\\n",
       "PMID                                                                       \n",
       "29913182  Autoimmunity,Diabetes Mellitus, Type 1,Genetic...      D003922   \n",
       "29913317  Adolescent,Adult,Aged,Aged, 80 and over,Bangla...      D016640   \n",
       "\n",
       "                       mesh_mh_diab  \\\n",
       "PMID                                  \n",
       "29913182  Diabetes Mellitus, Type 1   \n",
       "29913317      Diabetes, Gestational   \n",
       "\n",
       "                                        title_abstract_prep  class_predict  \n",
       "PMID                                                                        \n",
       "29913182  the genetic architecture of type 1 diabetes me...              0  \n",
       "29913317  evaluation of knowledge regarding gestational ...              1  "
      ]
     },
     "execution_count": 103,
     "metadata": {},
     "output_type": "execute_result"
    }
   ],
   "source": [
    "import pandas as pd\n",
    "import numpy as np \n",
    "\n",
    "\n",
    "class Tree(object):\n",
    "    \n",
    "    def __init__(self, tree_hierarchy_HC, n_classes):\n",
    "        self.tree = None \n",
    "        self.tree_hierarchy_HC = tree_hierarchy_HC # pandas dataframe with tree structure coming from hierarchical clustering\n",
    "        self.n_nodes = 0\n",
    "        self.n_classes = n_classes\n",
    "        self.precision_all_nodes = [] # macro\n",
    "        self.precision_macro = None \n",
    "        self.recall_all_classes = []\n",
    "        self.recall_macro = None\n",
    "        self.F1 = None\n",
    "        \n",
    "        \n",
    "    def _build_tree(self, node):\n",
    "        if node.node_id in self.tree_hierarchy_HC[\"node_id\"].values: # if node not leaf\n",
    "            treeChildren = self.tree_hierarchy_HC[self.tree_hierarchy_HC[\"node_id\"] == node.node_id]\n",
    "            node.add_child(Node(Id=treeChildren[\"left\"].values[0], depth=node.depth + 1, parent=node))\n",
    "            node.add_child(Node(Id=treeChildren[\"right\"].values[0], depth=node.depth + 1, parent=node))\n",
    "            self._build_tree(node.children[0])\n",
    "            self._build_tree(node.children[1])\n",
    "        else:\n",
    "            return node\n",
    "        return node\n",
    "\n",
    "    def _update_leaf_to_root(self, node, name, class_predict):\n",
    "        node.update_node(name, class_predict)\n",
    "        if node.parent != None:\n",
    "            self._update_leaf_to_root(node.parent, name, class_predict)\n",
    "    \n",
    "    def set_build_tree(self,node):\n",
    "        \"\"\" Builds the tree and sets the variable tree.\"\"\"\n",
    "        tree = self._build_tree(node)       \n",
    "        assert isinstance(tree, Node)\n",
    "        self.tree = tree\n",
    "        \n",
    "    def fitTree(self, node, data):\n",
    "        \"\"\" Updates all the nodes of the tree according to the clustering \"\"\"\n",
    "\n",
    "        assert isinstance(node, Node)\n",
    "        if len(node.children) > 0: # no leaf\n",
    "            for child in node.children:\n",
    "                self.fitTree(child, data)\n",
    "        else:\n",
    "            leaf_id = node.node_id\n",
    "            leaf_abstract_name = data.iloc[leaf_id].name\n",
    "            leaf_abstract_class_predict = data.iloc[leaf_id].class_predict\n",
    "            self._update_leaf_to_root(node, leaf_abstract_name, leaf_abstract_class_predict)\n",
    "        return node\n",
    "        \n",
    "    def _walk_count_nodes(self, node):\n",
    "        self.n_nodes += 1\n",
    "        for child in node.children:\n",
    "            self._walk_count_nodes(child)            \n",
    "            \n",
    "    def count_nodes(self):\n",
    "        self.n_nodes = 0\n",
    "        self._walk_count_nodes(self.tree)\n",
    "        return self.n_nodes\n",
    "    \n",
    "    def _walk_precision(self, node):\n",
    "        self.precision_all_nodes.append(node.get_precision())\n",
    "        for child in node.children:\n",
    "            self._walk_precision(child)\n",
    "            \n",
    "    def get_precision_macro(self):\n",
    "        self.precision_all_nodes = []\n",
    "        self._walk_precision(self.tree)\n",
    "        self.precision = np.mean(self.precision_all_nodes)\n",
    "        return self.precision\n",
    "\n",
    "    def _walk_recall(self, node, c):\n",
    "        occ = node.count_class_occurrence(c)\n",
    "        if occ > self.temp_recall :\n",
    "            self.temp_recall = occ\n",
    "        for child in node.children:\n",
    "            self._walk_recall(child, c)\n",
    "        \n",
    "    def get_recall_macro(self):\n",
    "        for c in self.n_classes:\n",
    "            self.temp_recall = 0.0 \n",
    "            self._walk_recall(self.tree, c)\n",
    "            self.recall_all_classes.append(self.temp_recall / len(self.n_classes))\n",
    "        self.recall_macro = np.mean(self.recall_all_classes)\n",
    "        return self.recall_macro\n",
    "    \n",
    "    def get_F1(self):\n",
    "        if self.precision == None:\n",
    "            self.get_precision_macro()\n",
    "        if self.recall_macro == None:\n",
    "            self.get_recall_macro()\n",
    "        self.F1 = 2*self.precision*self.recall_macro / (self.precision + self.recall_macro)\n",
    "        return self.F1\n",
    "    \n",
    "    def get_performances(self):\n",
    "        return({\n",
    "            \"prec\" : self.precision if self.precision != None else self.get_precision_macro()\n",
    "            ,\"recall\" : self.recall_macro if self.recall_macro != None else self.get_recall_macro()\n",
    "            ,\"F1\" : self.F1 if self.F1 != None else self.get_F1()\n",
    "        })\n",
    "    \n",
    "class Node(object):\n",
    "    \"Generic tree node.\"\n",
    "    def __init__(self, Id, depth, parent=None, children=None):\n",
    "        self.node_id = Id\n",
    "        self.parent = parent\n",
    "        self.children = []\n",
    "        self.depth = depth\n",
    "        self.abstracts = [] # PMID's of abstracts \n",
    "        self.predicted_classes = []\n",
    "        self.counts = 0\n",
    "        self.recall = None\n",
    "        self.precision = None \n",
    "        self.F1 = None\n",
    "        if children is not None:\n",
    "            for child in children:\n",
    "                self.add_child(child)\n",
    "    def __repr__(self):\n",
    "        return str(self.node_id)#{\"node_id\": self.node_id}\n",
    "    \n",
    "    def add_child(self, node):\n",
    "        assert isinstance(node, Node)\n",
    "        self.children.append(node)\n",
    "        \n",
    "    def pretty_print(self, depth=0):\n",
    "        \n",
    "        if self.depth == depth: \n",
    "            print(\"Node: {}, Parent: {} (Depth: {}, counts: {}) | Children: {}\".format(self.node_id, self.parent, self.depth, self.counts, self.children))\n",
    "            print(\"\\tAbstracts: {}\".format(self.abstracts))\n",
    "            print(\"\\tpredicted_classes: {}\".format(self.predicted_classes))\n",
    "        else:\n",
    "            for child in self.children:\n",
    "                child.pretty_print(depth)\n",
    "            \n",
    "            \n",
    "    def update_node(self, abstract_PMID, predicted_class):\n",
    "        self.abstracts.append(abstract_PMID)\n",
    "        self.predicted_classes.append(predicted_class)\n",
    "        self.counts += 1\n",
    "        \n",
    "        \n",
    "    def get_precision(self):\n",
    "        mostFrequent = max(self.predicted_classes,key=self.predicted_classes.count)\n",
    "        return self.predicted_classes.count(mostFrequent) / self.counts\n",
    "\n",
    "    def count_class_occurrence(self, c):\n",
    "        return self.predicted_classes.count(c)\n",
    "    \n",
    "        \n",
    "#data = pd.read_parquet(\"/home/adrian/workspace/Hierarchical-Clustering-Active-Learning-Text/outputs/diabetes_abstracts_HC_output.parquet\")\n",
    "data = pd.read_parquet(\"/home/adrian/workspace/Hierarchical-Clustering-Active-Learning-Text/diabetes_abstracts_HC_output_10Examples.parquet\")\n",
    "#data.index = data.index.get_level_values(None)\n",
    "#data.index.name = \"PMID\"\n",
    "\n",
    "#HC_tree = pd.read_parquet('/home/adrian/workspace/Hierarchical-Clustering-Active-Learning-Text/outputs/diabetes_abstracts_tree_output.parquet')\n",
    "HC_tree = pd.read_parquet('/home/adrian/workspace/Hierarchical-Clustering-Active-Learning-Text/diabetes_abstracts_tree_output_10Examples.parquet')\n",
    "\n",
    "## TEST TREE\n",
    "#data = pd.DataFrame({\"PMID\": [0, 1, 2, 3, 4, 5]\n",
    "#                    , \"class_predict\": [3, 0, 0, 0, 1, 2]}\n",
    "#                   , columns=[\"PMID\", \"class_predict\"]).set_index(\"PMID\")\n",
    "\n",
    "#HC_tree = pd.DataFrame({\"node_id\":[6, 7, 8, 9, 10]\n",
    "#                    , \"left\" : [1, 2, 0, 5, 8]\n",
    "#                    , \"right\" :[3, 6, 4, 7, 9]}\n",
    "#                   , columns=[\"node_id\", \"left\", \"right\"])\n",
    "\n",
    "print(\"Tree nodes: {}\".format(HC_tree.shape))\n",
    "print(HC_tree.head())\n",
    "print(\"data size: {}\".format(data.shape))\n",
    "print(list(set(data[\"class_predict\"])))\n",
    "data.head(2)\n",
    "\n"
   ]
  },
  {
   "cell_type": "code",
   "execution_count": 104,
   "metadata": {},
   "outputs": [
    {
     "name": "stdout",
     "output_type": "stream",
     "text": [
      "Node: 18, Parent: None (Depth: 0, counts: 0) | Children: [16, 17]\n",
      "\tAbstracts: []\n",
      "\tpredicted_classes: []\n"
     ]
    }
   ],
   "source": [
    "treeClass = Tree(HC_tree, list(set(data[\"class_predict\"])))\n",
    "\n",
    "root = Node(Id=HC_tree[\"node_id\"].max(), depth=0, parent=None, children=[])\n",
    "\n",
    "treeClass.set_build_tree(root)\n",
    "treeClass.tree.pretty_print()"
   ]
  },
  {
   "cell_type": "code",
   "execution_count": 105,
   "metadata": {},
   "outputs": [
    {
     "data": {
      "text/plain": [
       "19"
      ]
     },
     "execution_count": 105,
     "metadata": {},
     "output_type": "execute_result"
    }
   ],
   "source": [
    "treeClass.count_nodes()\n"
   ]
  },
  {
   "cell_type": "code",
   "execution_count": 106,
   "metadata": {},
   "outputs": [
    {
     "data": {
      "text/plain": [
       "18"
      ]
     },
     "execution_count": 106,
     "metadata": {},
     "output_type": "execute_result"
    }
   ],
   "source": [
    "# fit tree with abstracts \n",
    "treeClass.fitTree(treeClass.tree, data)"
   ]
  },
  {
   "cell_type": "code",
   "execution_count": 107,
   "metadata": {},
   "outputs": [
    {
     "name": "stdout",
     "output_type": "stream",
     "text": [
      "Node: 16, Parent: 18 (Depth: 1, counts: 5) | Children: [5, 13]\n",
      "\tAbstracts: ['29914103', '29913317', '29914063', '29913486', '29914404']\n",
      "\tpredicted_classes: [3, 1, 1, 1, 1]\n",
      "Node: 17, Parent: 18 (Depth: 1, counts: 5) | Children: [4, 15]\n",
      "\tAbstracts: ['29914066', '29914375', '29914345', '29913182', '29914234']\n",
      "\tpredicted_classes: [2, 0, 0, 0, 0]\n"
     ]
    }
   ],
   "source": [
    "treeClass.tree.pretty_print(depth=1)"
   ]
  },
  {
   "cell_type": "code",
   "execution_count": 109,
   "metadata": {},
   "outputs": [
    {
     "name": "stdout",
     "output_type": "stream",
     "text": [
      "0.9473684210526315\n",
      "0.625\n",
      "0.7531380753138075\n",
      "{'prec': 0.9473684210526315, 'recall': 0.625, 'F1': 0.7531380753138075}\n"
     ]
    }
   ],
   "source": [
    "print(treeClass.get_precision_macro())\n",
    "print(treeClass.get_recall_macro())\n",
    "print(treeClass.get_F1())\n",
    "print(treeClass.get_performances())"
   ]
  },
  {
   "cell_type": "code",
   "execution_count": null,
   "metadata": {},
   "outputs": [],
   "source": [
    "## import re\n",
    "bioclean = lambda t: re.sub('[.,?;*!%^&_+():-\\[\\]{}]', '', t.replace('\"', '').replace('/', '').replace('\\\\', '').replace(\"'\",'').strip().lower()).split()\n",
    "biocleanSoft= lambda t: re.sub('[.,?;*!%^&_+():-\\[\\]{}]', '', t).split()\n",
    "fbe = lambda t: re.sub('(?!^)\\\\b', '', t).split()\n",
    "\n",
    "for sent in data.abstract[0:10]:\n",
    "    print(sent)\n",
    "    print()\n",
    "    print(bioclean(sent))\n",
    "    print()\n",
    "    print(biocleanSoft(sent))\n",
    "    print()\n",
    "    print(fbe(sent))\n",
    "    print()\n",
    "    print(\"New:\")"
   ]
  },
  {
   "cell_type": "code",
   "execution_count": 37,
   "metadata": {},
   "outputs": [
    {
     "data": {
      "text/plain": [
       "2"
      ]
     },
     "execution_count": 37,
     "metadata": {},
     "output_type": "execute_result"
    }
   ],
   "source": [
    "qq = [3,2,2,1,0,8]\n",
    "max(qq,key=qq.count)\n",
    "qq.count(2)"
   ]
  },
  {
   "cell_type": "code",
   "execution_count": 18,
   "metadata": {},
   "outputs": [],
   "source": [
    "qq"
   ]
  },
  {
   "cell_type": "code",
   "execution_count": null,
   "metadata": {},
   "outputs": [],
   "source": []
  }
 ],
 "metadata": {
  "kernelspec": {
   "display_name": "Python 3",
   "language": "python",
   "name": "python3"
  },
  "language_info": {
   "codemirror_mode": {
    "name": "ipython",
    "version": 3
   },
   "file_extension": ".py",
   "mimetype": "text/x-python",
   "name": "python",
   "nbconvert_exporter": "python",
   "pygments_lexer": "ipython3",
   "version": "3.7.7"
  }
 },
 "nbformat": 4,
 "nbformat_minor": 4
}
