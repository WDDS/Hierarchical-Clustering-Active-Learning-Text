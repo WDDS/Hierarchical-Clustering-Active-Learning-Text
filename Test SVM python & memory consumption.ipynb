{
 "cells": [
  {
   "cell_type": "code",
   "execution_count": 2,
   "metadata": {},
   "outputs": [
    {
     "name": "stdout",
     "output_type": "stream",
     "text": [
      "(1000, 10)\n",
      "(1000, 10)\n"
     ]
    },
    {
     "data": {
      "text/html": [
       "<div>\n",
       "<style scoped>\n",
       "    .dataframe tbody tr th:only-of-type {\n",
       "        vertical-align: middle;\n",
       "    }\n",
       "\n",
       "    .dataframe tbody tr th {\n",
       "        vertical-align: top;\n",
       "    }\n",
       "\n",
       "    .dataframe thead th {\n",
       "        text-align: right;\n",
       "    }\n",
       "</style>\n",
       "<table border=\"1\" class=\"dataframe\">\n",
       "  <thead>\n",
       "    <tr style=\"text-align: right;\">\n",
       "      <th></th>\n",
       "      <th>PMID</th>\n",
       "      <th>title</th>\n",
       "      <th>abstract</th>\n",
       "      <th>date</th>\n",
       "      <th>mesh_ui</th>\n",
       "      <th>mesh_mh</th>\n",
       "      <th>mesh_ui_diab</th>\n",
       "      <th>mesh_mh_diab</th>\n",
       "      <th>title_abstract_prep</th>\n",
       "      <th>vec</th>\n",
       "    </tr>\n",
       "  </thead>\n",
       "  <tbody>\n",
       "    <tr>\n",
       "      <th>103</th>\n",
       "      <td>23424911</td>\n",
       "      <td>\"Local\" or \"mobile\" screening for diabetic ret...</td>\n",
       "      <td>Fundus photographs using non-mydriatic digital...</td>\n",
       "      <td>2012-12</td>\n",
       "      <td>D000368,D019058,D003930,D003941,D005260,D00560...</td>\n",
       "      <td>Aged,Community Networks,Diabetic Retinopathy,D...</td>\n",
       "      <td>D003930</td>\n",
       "      <td>Diabetic Retinopathy</td>\n",
       "      <td>local or mobile screening for diabetic retinop...</td>\n",
       "      <td>[-0.109889105, 0.2034432, 0.12958081, 0.131131...</td>\n",
       "    </tr>\n",
       "    <tr>\n",
       "      <th>1638</th>\n",
       "      <td>8018225</td>\n",
       "      <td>Psychosocial aspects of type 1 diabetes mellit...</td>\n",
       "      <td>A total clinic sample of 67 diabetic and their...</td>\n",
       "      <td>1994</td>\n",
       "      <td>D000223,D000293,D001290,D002648,D002652,D00267...</td>\n",
       "      <td>Adaptation, Psychological,Adolescent,Attitude,...</td>\n",
       "      <td>D003922</td>\n",
       "      <td>Diabetes Mellitus, Type 1</td>\n",
       "      <td>psychosocial aspects of type 1 diabetes mellit...</td>\n",
       "      <td>[-0.1481604, 0.1100086, 0.05811649, 0.15816991...</td>\n",
       "    </tr>\n",
       "  </tbody>\n",
       "</table>\n",
       "</div>"
      ],
      "text/plain": [
       "          PMID                                              title  \\\n",
       "103   23424911  \"Local\" or \"mobile\" screening for diabetic ret...   \n",
       "1638   8018225  Psychosocial aspects of type 1 diabetes mellit...   \n",
       "\n",
       "                                               abstract     date  \\\n",
       "103   Fundus photographs using non-mydriatic digital...  2012-12   \n",
       "1638  A total clinic sample of 67 diabetic and their...     1994   \n",
       "\n",
       "                                                mesh_ui  \\\n",
       "103   D000368,D019058,D003930,D003941,D005260,D00560...   \n",
       "1638  D000223,D000293,D001290,D002648,D002652,D00267...   \n",
       "\n",
       "                                                mesh_mh mesh_ui_diab  \\\n",
       "103   Aged,Community Networks,Diabetic Retinopathy,D...      D003930   \n",
       "1638  Adaptation, Psychological,Adolescent,Attitude,...      D003922   \n",
       "\n",
       "                   mesh_mh_diab  \\\n",
       "103        Diabetic Retinopathy   \n",
       "1638  Diabetes Mellitus, Type 1   \n",
       "\n",
       "                                    title_abstract_prep  \\\n",
       "103   local or mobile screening for diabetic retinop...   \n",
       "1638  psychosocial aspects of type 1 diabetes mellit...   \n",
       "\n",
       "                                                    vec  \n",
       "103   [-0.109889105, 0.2034432, 0.12958081, 0.131131...  \n",
       "1638  [-0.1481604, 0.1100086, 0.05811649, 0.15816991...  "
      ]
     },
     "execution_count": 2,
     "metadata": {},
     "output_type": "execute_result"
    }
   ],
   "source": [
    "import pandas as pd \n",
    "import numpy as np\n",
    "from sklearn.svm import SVC, LinearSVC\n",
    "from sklearn.model_selection import train_test_split\n",
    "from sklearn.metrics import accuracy_score, precision_score, recall_score, f1_score\n",
    "\n",
    "#data = pd.read_parquet(\"/home/adrian/workspace/Hierarchical-Clustering-Active-Learning-Text/tmp/data/complications_1000pos_and_neg_samples.parquet\")\n",
    "#data.head(2)\n",
    "train = pd.read_parquet(\"/home/adrian/workspace/ActiveLearning/Active-Learning-for-Neural-Networks/data/diabetes/2000_random/2000random_1000train.parquet\")\n",
    "test = pd.read_parquet(\"/home/adrian/workspace/ActiveLearning/Active-Learning-for-Neural-Networks/data/diabetes/2000_random/2000random_1000test.parquet\")\n",
    "print(train.shape)\n",
    "print(test.shape)\n",
    "train.head(2)"
   ]
  },
  {
   "cell_type": "code",
   "execution_count": 2,
   "metadata": {},
   "outputs": [
    {
     "name": "stdout",
     "output_type": "stream",
     "text": [
      "Train: (1000, 10), Test: (1000, 10)\n",
      "\n",
      "==iteration i: 0\n",
      "annotations: (100, 11)\n",
      "labels:\n",
      "0    50\n",
      "1    11\n",
      "Name: true_label, dtype: int64\n",
      "tp: 0, fp: 0, fn: 95, tn: 905\n",
      "Accuracy: 0.905, Precision: 0.0, Recall: 0.0, F1: 0.0\n",
      "\n",
      "==iteration i: 1\n",
      "annotations: (200, 11)\n",
      "labels:\n",
      "0    50\n",
      "1    23\n",
      "Name: true_label, dtype: int64\n",
      "tp: 3, fp: 2, fn: 92, tn: 903\n",
      "Accuracy: 0.906, Precision: 0.6, Recall: 0.031578947368421054, F1: 0.060000000000000005\n",
      "\n",
      "==iteration i: 2\n",
      "annotations: (300, 11)\n",
      "labels:\n",
      "0    50\n",
      "1    33\n",
      "Name: true_label, dtype: int64\n",
      "tp: 45, fp: 67, fn: 50, tn: 838\n",
      "Accuracy: 0.883, Precision: 0.4017857142857143, Recall: 0.47368421052631576, F1: 0.43478260869565216\n",
      "\n",
      "==iteration i: 3\n",
      "annotations: (400, 11)\n",
      "labels:\n",
      "0    50\n",
      "1    44\n",
      "Name: true_label, dtype: int64\n",
      "tp: 55, fp: 122, fn: 40, tn: 783\n",
      "Accuracy: 0.838, Precision: 0.3107344632768362, Recall: 0.5789473684210527, F1: 0.40441176470588236\n",
      "\n",
      "==iteration i: 4\n",
      "annotations: (500, 11)\n",
      "labels:\n",
      "1    51\n",
      "0    50\n",
      "Name: true_label, dtype: int64\n",
      "tp: 69, fp: 237, fn: 26, tn: 668\n",
      "Accuracy: 0.737, Precision: 0.22549019607843138, Recall: 0.7263157894736842, F1: 0.34413965087281795\n"
     ]
    }
   ],
   "source": [
    "y_test = test[\"mesh_ui_diab\"].map(lambda mesh: 1 if mesh == \"D048909\" else 0).values\n",
    "#y_train = train[\"mesh_ui_diab\"].map(lambda mesh: 1 if mesh == \"D048909\" else 0)\n",
    "\n",
    "#X_train = np.array(train[\"vec\"].tolist())\n",
    "X_test = np.array(test[\"vec\"].tolist())\n",
    "\n",
    "#X_train, X_test, y_train, y_test = train_test_split(X, y, test_size=0.75, random_state=0)\n",
    "\n",
    "print(\"Train: {}, Test: {}\".format(train.shape, test.shape))\n",
    "\n",
    "train[\"true_label\"] = train[\"mesh_ui_diab\"].map(lambda mesh: 1 if mesh == \"D048909\" else 0)\n",
    "batchSize = 100\n",
    "annotations = pd.DataFrame(columns=train.columns)\n",
    "acc_list = []\n",
    "prec_list = []\n",
    "rec_list = []\n",
    "f1_list = []\n",
    "for i in range(5):\n",
    "    print(\"\\n==iteration i: {}\".format(i))\n",
    "    new_annot = train.sample(n=100)\n",
    "    annotations = annotations.append(new_annot)\n",
    "    \n",
    "    #training = np.array(annotations[\"vec\"].tolist())\n",
    "    #labels = annotations[\"mesh_ui_diab\"].map(lambda mesh: 1 if mesh == \"D048909\" else 0)\n",
    "    \n",
    "\n",
    "    pos = annotations[annotations[\"true_label\"] == 1]\n",
    "    neg = annotations[annotations[\"true_label\"] == 0].sample(50)\n",
    "    union = pos.append(neg).sample(frac=1.0)\n",
    "    training = np.array(union[\"vec\"].tolist())\n",
    "    labels = pd.to_numeric(union[\"true_label\"])\n",
    "    \n",
    "    #train[\"true_label\"] = train[\"mesh_ui_diab\"].map(lambda mesh: 1 if mesh == \"D048909\" else 0)\n",
    "    #pos = train[train[\"true_label\"] == 1].sample(20)\n",
    "    #neg = train[train[\"true_label\"] == 0].sample(20)\n",
    "    #union = pos.append(neg)\n",
    "    #training = np.array(union[\"vec\"].tolist())\n",
    "    #labels = union[\"true_label\"]\n",
    "    print(\"annotations: {}\".format(annotations.shape))\n",
    "    print(\"labels:\")\n",
    "    print(labels.value_counts())\n",
    "    svm = SVC(kernel= 'linear', random_state=0)\n",
    "    #svm = LinearSVC(random_state=0)\n",
    "    #svm.fit(np.array(X_train[0:i].tolist()), y_train[0:i])\n",
    "    svm.fit(training, labels)\n",
    " \n",
    "    # Mode performance\n",
    "    y_pred = svm.predict(np.array(X_test.tolist()))\n",
    "    \n",
    "    tp = 0\n",
    "    fp = 0\n",
    "    fn = 0\n",
    "    tn = 0\n",
    "    for j in range(len(y_pred)):\n",
    "        if y_test[j] == y_pred[j] == 1: tp +=1\n",
    "        if y_test[j] == 0 and y_pred[j] == 1: fp += 1\n",
    "        if y_test[j] == 1 and y_pred[j] == 0: fn += 1\n",
    "        if y_test[j] == 0 and y_pred[j] == 0: tn += 1\n",
    "            \n",
    "    acc = 1.0* (tp+tn) / (tp+tn+fp+fn) #accuracy_score(y_test, y_pred)\n",
    "    if tp>0: prec = 1.0*tp / (tp+fp) \n",
    "    else: prec = 0.0#precision_score(y_test, y_pred)\n",
    "    if tp>0: rec = 1.0*tp / (tp+fn) #recall_score(y_test, y_pred)\n",
    "    else: rec = 0.0\n",
    "    if prec > 0.0 and rec > 0.0: f1 = 2*prec*rec / (prec+rec) # f1_score(y_test, y_pred)\n",
    "    else: f1 = 0.0\n",
    "    acc_list.append(acc)\n",
    "    prec_list.append(prec)\n",
    "    rec_list.append(rec)\n",
    "    f1_list.append(f1)\n",
    "    print(\"tp: {}, fp: {}, fn: {}, tn: {}\".format(tp, fp, fn, tn))\n",
    "    print('Accuracy: {}, Precision: {}, Recall: {}, F1: {}'.format(acc, prec, rec, f1))"
   ]
  },
  {
   "cell_type": "code",
   "execution_count": 34,
   "metadata": {},
   "outputs": [
    {
     "ename": "NameError",
     "evalue": "name 'data' is not defined",
     "output_type": "error",
     "traceback": [
      "\u001b[0;31m---------------------------------------------------------------------------\u001b[0m",
      "\u001b[0;31mNameError\u001b[0m                                 Traceback (most recent call last)",
      "\u001b[0;32m<ipython-input-34-b0ae51cbb80b>\u001b[0m in \u001b[0;36m<module>\u001b[0;34m\u001b[0m\n\u001b[0;32m----> 1\u001b[0;31m \u001b[0mX_train\u001b[0m\u001b[0;34m,\u001b[0m \u001b[0mX_test\u001b[0m\u001b[0;34m,\u001b[0m \u001b[0my_train\u001b[0m\u001b[0;34m,\u001b[0m \u001b[0my_test\u001b[0m \u001b[0;34m=\u001b[0m \u001b[0mtrain_test_split\u001b[0m\u001b[0;34m(\u001b[0m\u001b[0mdata\u001b[0m\u001b[0;34m,\u001b[0m \u001b[0my\u001b[0m\u001b[0;34m,\u001b[0m \u001b[0mtest_size\u001b[0m\u001b[0;34m=\u001b[0m\u001b[0;36m0.75\u001b[0m\u001b[0;34m,\u001b[0m \u001b[0mrandom_state\u001b[0m\u001b[0;34m=\u001b[0m\u001b[0;36m0\u001b[0m\u001b[0;34m)\u001b[0m\u001b[0;34m\u001b[0m\u001b[0;34m\u001b[0m\u001b[0m\n\u001b[0m\u001b[1;32m      2\u001b[0m \u001b[0mprint\u001b[0m\u001b[0;34m(\u001b[0m\u001b[0;34m\"Train: {}, Test: {}\"\u001b[0m\u001b[0;34m.\u001b[0m\u001b[0mformat\u001b[0m\u001b[0;34m(\u001b[0m\u001b[0mX_train\u001b[0m\u001b[0;34m.\u001b[0m\u001b[0mshape\u001b[0m\u001b[0;34m,\u001b[0m \u001b[0mX_test\u001b[0m\u001b[0;34m.\u001b[0m\u001b[0mshape\u001b[0m\u001b[0;34m)\u001b[0m\u001b[0;34m)\u001b[0m\u001b[0;34m\u001b[0m\u001b[0;34m\u001b[0m\u001b[0m\n",
      "\u001b[0;31mNameError\u001b[0m: name 'data' is not defined"
     ]
    }
   ],
   "source": [
    "X_train, X_test, y_train, y_test = train_test_split(data, y, test_size=0.75, random_state=0)\n",
    "print(\"Train: {}, Test: {}\".format(X_train.shape, X_test.shape))\n"
   ]
  },
  {
   "cell_type": "code",
   "execution_count": 2,
   "metadata": {},
   "outputs": [
    {
     "name": "stdout",
     "output_type": "stream",
     "text": [
      "Accuracy: 0.749\n"
     ]
    }
   ],
   "source": [
    "training = train[train]\n",
    "\n",
    "svm = SVC(kernel= 'linear', random_state=0)\n",
    "svm.fit(np.array(X_train[0:i].tolist()), y_train[0:i])\n",
    "\n",
    "# Mode performance\n",
    "y_pred = svm.predict(np.array(X_test.tolist()))\n",
    "print('Accuracy: %.3f' % accuracy_score(y_test, y_pred))"
   ]
  },
  {
   "cell_type": "code",
   "execution_count": 4,
   "metadata": {},
   "outputs": [
    {
     "data": {
      "text/html": [
       "<div>\n",
       "<style scoped>\n",
       "    .dataframe tbody tr th:only-of-type {\n",
       "        vertical-align: middle;\n",
       "    }\n",
       "\n",
       "    .dataframe tbody tr th {\n",
       "        vertical-align: top;\n",
       "    }\n",
       "\n",
       "    .dataframe thead th {\n",
       "        text-align: right;\n",
       "    }\n",
       "</style>\n",
       "<table border=\"1\" class=\"dataframe\">\n",
       "  <thead>\n",
       "    <tr style=\"text-align: right;\">\n",
       "      <th></th>\n",
       "      <th>PMID</th>\n",
       "      <th>title</th>\n",
       "      <th>abstract</th>\n",
       "      <th>date</th>\n",
       "      <th>mesh_ui</th>\n",
       "      <th>mesh_mh</th>\n",
       "      <th>mesh_ui_diab</th>\n",
       "      <th>mesh_mh_diab</th>\n",
       "      <th>title_abstract_prep</th>\n",
       "      <th>vec</th>\n",
       "      <th>true_label</th>\n",
       "    </tr>\n",
       "  </thead>\n",
       "  <tbody>\n",
       "    <tr>\n",
       "      <th>1284</th>\n",
       "      <td>25372483</td>\n",
       "      <td>Efficacy of standard and intensive statin trea...</td>\n",
       "      <td>AIMS\\nTo estimate the efficacy of standard and...</td>\n",
       "      <td>2014</td>\n",
       "      <td>D002318,D002561,D048909,D006801,D019161,D01601...</td>\n",
       "      <td>Cardiovascular Diseases,Cerebrovascular Disord...</td>\n",
       "      <td>D048909</td>\n",
       "      <td>Diabetes Complications</td>\n",
       "      <td>efficacy of standard and intensive statin trea...</td>\n",
       "      <td>[-0.14197996, 0.13804576, 0.040885188, 0.21439...</td>\n",
       "      <td>1</td>\n",
       "    </tr>\n",
       "    <tr>\n",
       "      <th>1004</th>\n",
       "      <td>22520623</td>\n",
       "      <td>Diabetes and depressive symptoms among Korean ...</td>\n",
       "      <td>PURPOSE\\nIn recognition of the impact of chron...</td>\n",
       "      <td>2012-09</td>\n",
       "      <td>D000368,D000369,D001213,D001294,D003469,D00386...</td>\n",
       "      <td>Aged,Aged, 80 and over,Asian Americans,Attitud...</td>\n",
       "      <td>D048909</td>\n",
       "      <td>Diabetes Complications</td>\n",
       "      <td>diabetes and depressive symptoms among korean ...</td>\n",
       "      <td>[-0.09494508, 0.17526884, 0.15795921, 0.207997...</td>\n",
       "      <td>1</td>\n",
       "    </tr>\n",
       "  </tbody>\n",
       "</table>\n",
       "</div>"
      ],
      "text/plain": [
       "          PMID                                              title  \\\n",
       "1284  25372483  Efficacy of standard and intensive statin trea...   \n",
       "1004  22520623  Diabetes and depressive symptoms among Korean ...   \n",
       "\n",
       "                                               abstract     date  \\\n",
       "1284  AIMS\\nTo estimate the efficacy of standard and...     2014   \n",
       "1004  PURPOSE\\nIn recognition of the impact of chron...  2012-09   \n",
       "\n",
       "                                                mesh_ui  \\\n",
       "1284  D002318,D002561,D048909,D006801,D019161,D01601...   \n",
       "1004  D000368,D000369,D001213,D001294,D003469,D00386...   \n",
       "\n",
       "                                                mesh_mh mesh_ui_diab  \\\n",
       "1284  Cardiovascular Diseases,Cerebrovascular Disord...      D048909   \n",
       "1004  Aged,Aged, 80 and over,Asian Americans,Attitud...      D048909   \n",
       "\n",
       "                mesh_mh_diab  \\\n",
       "1284  Diabetes Complications   \n",
       "1004  Diabetes Complications   \n",
       "\n",
       "                                    title_abstract_prep  \\\n",
       "1284  efficacy of standard and intensive statin trea...   \n",
       "1004  diabetes and depressive symptoms among korean ...   \n",
       "\n",
       "                                                    vec  true_label  \n",
       "1284  [-0.14197996, 0.13804576, 0.040885188, 0.21439...           1  \n",
       "1004  [-0.09494508, 0.17526884, 0.15795921, 0.207997...           1  "
      ]
     },
     "execution_count": 4,
     "metadata": {},
     "output_type": "execute_result"
    }
   ],
   "source": [
    "# i = 50: acc: 0.634\n",
    "# i = 100: acc: 0.737\n",
    "# i = 150: acc: 0.721\n",
    "# i = 200: acc: 0.749"
   ]
  },
  {
   "cell_type": "markdown",
   "metadata": {},
   "source": [
    "## PLOT MEMORY CONSUMPTION"
   ]
  },
  {
   "cell_type": "code",
   "execution_count": 6,
   "metadata": {},
   "outputs": [
    {
     "data": {
      "image/png": "[encoded data removed]",
      "text/plain": [
       "<Figure size 432x288 with 1 Axes>"
      ]
     },
     "metadata": {
      "needs_background": "light"
     },
     "output_type": "display_data"
    }
   ],
   "source": [
    "import matplotlib.pyplot as plt\n",
    "x = [5000, 10000, 20000, 30000, 40000, 50000]\n",
    "scikit = [3509, 4117, 6466, 10366, 15772, 22741]\n",
    "FBE = [2004, 2495, 2918, 3242, 3340, 3341]\n",
    "\n",
    "plt.plot(x, scikit, label=\"scikit-learn\")\n",
    "plt.plot(x, FBE, label=\"FBE\")\n",
    "plt.xlabel(\"N documents\")\n",
    "plt.ylabel(\"MB\")\n",
    "plt.title(\"Memory consumption in Megabytes (MB)\")\n",
    "plt.legend()\n",
    "plt.savefig(\"/home/adrian/workspace/Hierarchical-Clustering-Active-Learning-Text/memoryConsumption_FBE_sklearn.png\")\n",
    "plt.show()"
   ]
  },
  {
   "cell_type": "code",
   "execution_count": 1,
   "metadata": {},
   "outputs": [
    {
     "data": {
      "image/png": "[encoded data removed]",
      "text/plain": [
       "<Figure size 432x288 with 2 Axes>"
      ]
     },
     "metadata": {
      "needs_background": "light"
     },
     "output_type": "display_data"
    }
   ],
   "source": [
    "import matplotlib.pyplot as plt\n",
    "import pandas as pd\n",
    "\n",
    "labels = [\"F1-Score\", \"ratio pos./neg. annot.\"]\n",
    "FBE_random = [0.72, 18.0/182]\n",
    "FBE_uncertainitySampling = [0.88, 61.0/139]\n",
    "FBE_best = [0.89, 74.0/126]\n",
    "TF = [0.9, 0.645]\n",
    "\n",
    "F1_scores = [0.72, 0.88, 0.89, 0.9]\n",
    "ratios = [18.0/182, 61.0/139, 74.0/126, 0.645]\n",
    "\n",
    "data = pd.DataFrame([F1_scores, ratios]\n",
    "                    , columns= [\"Random\", \"Uncertainity sampling\", \"FeedbackExplorer\", \"CNN Zhang\"]\n",
    "                   , index = labels)\n",
    "#x = np.arange(len(labels))\n",
    "#width = 0.5\n",
    "\n",
    "#fig, ax = plt.subplots()\n",
    "#rect_random = ax.bar(x - width/2, FBE_random, width/2, label=\"FBE random\")\n",
    "#rect_uncertainity = ax.bar(x - width/4, FBE_uncertainitySamplingSampling, width/2, label=\"FBE uncertainity sampling\")\n",
    "#rect_best = ax.bar(x + width/4, FBE_best, width/2, label=\"FBE best\")\n",
    "#rect_tf = ax.bar(x + width/2, TF, width/2, label=\"CNN tensorflow\")\n",
    "\n",
    "#ax.set_\n",
    "title = \"Performance & ratio pos/neg annotations after 200 training points\"\n",
    "#data.head()\n",
    "ax = data.plot.bar(secondary_y=[\"ratio pos./neg. annotations\"], title=title, width=0.8)\n",
    "ax2 = ax.twinx()\n",
    "#ax1.plot(x, y1, 'g-')\n",
    "#ax2.plot(x, y2, 'b-')\n",
    "\n",
    "#ax1.set_xlabel('X data')\n",
    "ax.set_ylabel('F1-Score')\n",
    "ax2.set_ylabel('ratio pos/neg annotations')\n",
    "for tick in ax.get_xticklabels():\n",
    "    tick.set_rotation(0)\n",
    "ax.set_ylim(0.0, 1.2)\n",
    "plt.savefig(\"performance&ratio_pos_neg_annotations_after_200_training_points.png\")\n",
    "#dir(ax)"
   ]
  },
  {
   "cell_type": "code",
   "execution_count": 16,
   "metadata": {},
   "outputs": [
    {
     "data": {
      "image/png": "[encoded data removed]",
      "text/plain": [
       "<Figure size 432x288 with 2 Axes>"
      ]
     },
     "metadata": {
      "needs_background": "light"
     },
     "output_type": "display_data"
    }
   ],
   "source": [
    "data = pd.DataFrame([FBE_random, FBE_uncertainitySampling, FBE_best, TF]\n",
    "                    , columns= labels\n",
    "                   , index = [\"FBE_random\", \"FBE_uncertainitySampling\", \"FBE_best\", \"CNN TF\"])\n",
    "\n",
    "fig = plt.figure()\n",
    "ax = fig.add_subplot(111)\n",
    "ax2 = ax.twinx()\n",
    "\n",
    "width = 0.4\n",
    "data[\"F1-Score\"].plot(kind=\"bar\", color=\"red\", ax=ax, width=width, position=1)\n",
    "data[\"ratio pos./neg. annotations\"].plot(kind=\"bar\", color=\"blue\", ax=ax2, width=width, position=0)\n",
    "ax.set_ylabel(\"F1-Score\")\n",
    "ax2.set_ylabel(\"ratio pos./neg. annotations\")\n",
    "plt.show()"
   ]
  },
  {
   "cell_type": "code",
   "execution_count": 17,
   "metadata": {},
   "outputs": [
    {
     "data": {
      "text/html": [
       "<div>\n",
       "<style scoped>\n",
       "    .dataframe tbody tr th:only-of-type {\n",
       "        vertical-align: middle;\n",
       "    }\n",
       "\n",
       "    .dataframe tbody tr th {\n",
       "        vertical-align: top;\n",
       "    }\n",
       "\n",
       "    .dataframe thead th {\n",
       "        text-align: right;\n",
       "    }\n",
       "</style>\n",
       "<table border=\"1\" class=\"dataframe\">\n",
       "  <thead>\n",
       "    <tr style=\"text-align: right;\">\n",
       "      <th></th>\n",
       "      <th>F1-Score</th>\n",
       "      <th>ratio pos./neg. annotations</th>\n",
       "    </tr>\n",
       "  </thead>\n",
       "  <tbody>\n",
       "    <tr>\n",
       "      <th>FBE_random</th>\n",
       "      <td>0.72</td>\n",
       "      <td>0.098901</td>\n",
       "    </tr>\n",
       "    <tr>\n",
       "      <th>FBE_uncertainitySampling</th>\n",
       "      <td>0.88</td>\n",
       "      <td>0.438849</td>\n",
       "    </tr>\n",
       "    <tr>\n",
       "      <th>FBE_best</th>\n",
       "      <td>0.89</td>\n",
       "      <td>0.587302</td>\n",
       "    </tr>\n",
       "    <tr>\n",
       "      <th>CNN TF</th>\n",
       "      <td>0.90</td>\n",
       "      <td>0.645000</td>\n",
       "    </tr>\n",
       "  </tbody>\n",
       "</table>\n",
       "</div>"
      ],
      "text/plain": [
       "                          F1-Score  ratio pos./neg. annotations\n",
       "FBE_random                    0.72                     0.098901\n",
       "FBE_uncertainitySampling      0.88                     0.438849\n",
       "FBE_best                      0.89                     0.587302\n",
       "CNN TF                        0.90                     0.645000"
      ]
     },
     "execution_count": 17,
     "metadata": {},
     "output_type": "execute_result"
    }
   ],
   "source": [
    "data.head()"
   ]
  },
  {
   "cell_type": "code",
   "execution_count": null,
   "metadata": {},
   "outputs": [],
   "source": []
  }
 ],
 "metadata": {
  "kernelspec": {
   "display_name": "Python 3",
   "language": "python",
   "name": "python3"
  },
  "language_info": {
   "codemirror_mode": {
    "name": "ipython",
    "version": 3
   },
   "file_extension": ".py",
   "mimetype": "text/x-python",
   "name": "python",
   "nbconvert_exporter": "python",
   "pygments_lexer": "ipython3",
   "version": "3.7.7"
  }
 },
 "nbformat": 4,
 "nbformat_minor": 4
}
